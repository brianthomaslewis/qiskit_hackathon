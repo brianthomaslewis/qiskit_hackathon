{
 "cells": [
  {
   "cell_type": "code",
   "execution_count": 1,
   "metadata": {},
   "outputs": [
    {
     "data": {
      "text/plain": [
       "'0.16.4'"
      ]
     },
     "execution_count": 1,
     "metadata": {},
     "output_type": "execute_result"
    }
   ],
   "source": [
    "import numpy as np\n",
    "import pandas as pd\n",
    "import matplotlib.pyplot as plt\n",
    "from sklearn.model_selection import train_test_split\n",
    "\n",
    "import qiskit\n",
    "qiskit.__version__"
   ]
  },
  {
   "cell_type": "markdown",
   "metadata": {},
   "source": [
    "Potentially useful links\n",
    "\n",
    "https://quantumcomputing.stackexchange.com/questions/9967/how-to-use-external-csv-data-file-in-quantum-support-vector-machine-qiskit-pyth"
   ]
  },
  {
   "cell_type": "markdown",
   "metadata": {},
   "source": [
    "## Read Data"
   ]
  },
  {
   "cell_type": "code",
   "execution_count": 4,
   "metadata": {},
   "outputs": [
    {
     "data": {
      "text/html": [
       "<div>\n",
       "<style scoped>\n",
       "    .dataframe tbody tr th:only-of-type {\n",
       "        vertical-align: middle;\n",
       "    }\n",
       "\n",
       "    .dataframe tbody tr th {\n",
       "        vertical-align: top;\n",
       "    }\n",
       "\n",
       "    .dataframe thead th {\n",
       "        text-align: right;\n",
       "    }\n",
       "</style>\n",
       "<table border=\"1\" class=\"dataframe\">\n",
       "  <thead>\n",
       "    <tr style=\"text-align: right;\">\n",
       "      <th></th>\n",
       "      <th>Geographic Area_x</th>\n",
       "      <th>Median Income</th>\n",
       "      <th>City_State</th>\n",
       "      <th>poverty_rate</th>\n",
       "      <th>percent_completed_hs</th>\n",
       "      <th>share_white</th>\n",
       "      <th>share_black</th>\n",
       "      <th>share_native_american</th>\n",
       "      <th>share_asian</th>\n",
       "      <th>share_hispanic</th>\n",
       "      <th>...</th>\n",
       "      <th>armed</th>\n",
       "      <th>age</th>\n",
       "      <th>gender</th>\n",
       "      <th>race</th>\n",
       "      <th>city</th>\n",
       "      <th>state</th>\n",
       "      <th>signs_of_mental_illness</th>\n",
       "      <th>threat_level</th>\n",
       "      <th>flee</th>\n",
       "      <th>body_camera</th>\n",
       "    </tr>\n",
       "  </thead>\n",
       "  <tbody>\n",
       "    <tr>\n",
       "      <th>0</th>\n",
       "      <td>AL</td>\n",
       "      <td>25615</td>\n",
       "      <td>Abbeville AL</td>\n",
       "      <td>29.1</td>\n",
       "      <td>69.1</td>\n",
       "      <td>54.4</td>\n",
       "      <td>41.4</td>\n",
       "      <td>0.1</td>\n",
       "      <td>1.0</td>\n",
       "      <td>3.1</td>\n",
       "      <td>...</td>\n",
       "      <td>gun</td>\n",
       "      <td>29.0</td>\n",
       "      <td>M</td>\n",
       "      <td>B</td>\n",
       "      <td>Abbeville</td>\n",
       "      <td>AL</td>\n",
       "      <td>False</td>\n",
       "      <td>attack</td>\n",
       "      <td>Not fleeing</td>\n",
       "      <td>False</td>\n",
       "    </tr>\n",
       "    <tr>\n",
       "      <th>1</th>\n",
       "      <td>AL</td>\n",
       "      <td>40292</td>\n",
       "      <td>Arab AL</td>\n",
       "      <td>16.7</td>\n",
       "      <td>87.6</td>\n",
       "      <td>96.6</td>\n",
       "      <td>0.1</td>\n",
       "      <td>0.6</td>\n",
       "      <td>0.7</td>\n",
       "      <td>1.7</td>\n",
       "      <td>...</td>\n",
       "      <td>gun</td>\n",
       "      <td>36.0</td>\n",
       "      <td>M</td>\n",
       "      <td>W</td>\n",
       "      <td>Arab</td>\n",
       "      <td>AL</td>\n",
       "      <td>False</td>\n",
       "      <td>attack</td>\n",
       "      <td>Car</td>\n",
       "      <td>False</td>\n",
       "    </tr>\n",
       "    <tr>\n",
       "      <th>2</th>\n",
       "      <td>AL</td>\n",
       "      <td>40547</td>\n",
       "      <td>Ashville AL</td>\n",
       "      <td>28.3</td>\n",
       "      <td>77.6</td>\n",
       "      <td>75.8</td>\n",
       "      <td>20.3</td>\n",
       "      <td>0.2</td>\n",
       "      <td>0.3</td>\n",
       "      <td>3.8</td>\n",
       "      <td>...</td>\n",
       "      <td>gun</td>\n",
       "      <td>41.0</td>\n",
       "      <td>M</td>\n",
       "      <td>W</td>\n",
       "      <td>Ashville</td>\n",
       "      <td>AL</td>\n",
       "      <td>False</td>\n",
       "      <td>attack</td>\n",
       "      <td>Not fleeing</td>\n",
       "      <td>False</td>\n",
       "    </tr>\n",
       "    <tr>\n",
       "      <th>3</th>\n",
       "      <td>AL</td>\n",
       "      <td>31576</td>\n",
       "      <td>Bay Minette AL</td>\n",
       "      <td>26.3</td>\n",
       "      <td>79.1</td>\n",
       "      <td>60.4</td>\n",
       "      <td>35.3</td>\n",
       "      <td>1.0</td>\n",
       "      <td>0.8</td>\n",
       "      <td>1.8</td>\n",
       "      <td>...</td>\n",
       "      <td>gun</td>\n",
       "      <td>54.0</td>\n",
       "      <td>M</td>\n",
       "      <td>W</td>\n",
       "      <td>Bay Minette</td>\n",
       "      <td>AL</td>\n",
       "      <td>False</td>\n",
       "      <td>attack</td>\n",
       "      <td>Not fleeing</td>\n",
       "      <td>False</td>\n",
       "    </tr>\n",
       "    <tr>\n",
       "      <th>4</th>\n",
       "      <td>AL</td>\n",
       "      <td>31061</td>\n",
       "      <td>Birmingham AL</td>\n",
       "      <td>30.9</td>\n",
       "      <td>85.1</td>\n",
       "      <td>22.3</td>\n",
       "      <td>73.4</td>\n",
       "      <td>0.2</td>\n",
       "      <td>1.0</td>\n",
       "      <td>3.6</td>\n",
       "      <td>...</td>\n",
       "      <td>gun</td>\n",
       "      <td>77.0</td>\n",
       "      <td>M</td>\n",
       "      <td>B</td>\n",
       "      <td>Birmingham</td>\n",
       "      <td>AL</td>\n",
       "      <td>True</td>\n",
       "      <td>attack</td>\n",
       "      <td>Not fleeing</td>\n",
       "      <td>False</td>\n",
       "    </tr>\n",
       "  </tbody>\n",
       "</table>\n",
       "<p>5 rows × 24 columns</p>\n",
       "</div>"
      ],
      "text/plain": [
       "  Geographic Area_x Median Income      City_State  poverty_rate  \\\n",
       "0                AL         25615    Abbeville AL          29.1   \n",
       "1                AL         40292         Arab AL          16.7   \n",
       "2                AL         40547     Ashville AL          28.3   \n",
       "3                AL         31576  Bay Minette AL          26.3   \n",
       "4                AL         31061   Birmingham AL          30.9   \n",
       "\n",
       "   percent_completed_hs  share_white  share_black  share_native_american  \\\n",
       "0                  69.1         54.4         41.4                    0.1   \n",
       "1                  87.6         96.6          0.1                    0.6   \n",
       "2                  77.6         75.8         20.3                    0.2   \n",
       "3                  79.1         60.4         35.3                    1.0   \n",
       "4                  85.1         22.3         73.4                    0.2   \n",
       "\n",
       "   share_asian  share_hispanic  ...  armed   age gender race         city  \\\n",
       "0          1.0             3.1  ...    gun  29.0      M    B    Abbeville   \n",
       "1          0.7             1.7  ...    gun  36.0      M    W         Arab   \n",
       "2          0.3             3.8  ...    gun  41.0      M    W     Ashville   \n",
       "3          0.8             1.8  ...    gun  54.0      M    W  Bay Minette   \n",
       "4          1.0             3.6  ...    gun  77.0      M    B   Birmingham   \n",
       "\n",
       "   state signs_of_mental_illness threat_level         flee body_camera  \n",
       "0     AL                   False       attack  Not fleeing       False  \n",
       "1     AL                   False       attack          Car       False  \n",
       "2     AL                   False       attack  Not fleeing       False  \n",
       "3     AL                   False       attack  Not fleeing       False  \n",
       "4     AL                    True       attack  Not fleeing       False  \n",
       "\n",
       "[5 rows x 24 columns]"
      ]
     },
     "execution_count": 4,
     "metadata": {},
     "output_type": "execute_result"
    }
   ],
   "source": [
    "df = pd.read_csv('/Users/Brian/git/2021_Qiskitties/int_data/Merged_data.csv').iloc[:,1:]\n",
    "df.head()"
   ]
  },
  {
   "cell_type": "code",
   "execution_count": 5,
   "metadata": {},
   "outputs": [
    {
     "data": {
      "text/plain": [
       "Not fleeing    1699\n",
       "Car             387\n",
       "Foot            295\n",
       "Other            96\n",
       "Name: flee, dtype: int64"
      ]
     },
     "execution_count": 5,
     "metadata": {},
     "output_type": "execute_result"
    }
   ],
   "source": [
    "df['flee'].value_counts()"
   ]
  },
  {
   "cell_type": "code",
   "execution_count": 6,
   "metadata": {},
   "outputs": [],
   "source": [
    "X = df.drop('flee', axis=1)\n",
    "y = df['flee']"
   ]
  },
  {
   "cell_type": "code",
   "execution_count": 7,
   "metadata": {},
   "outputs": [
    {
     "name": "stdout",
     "output_type": "stream",
     "text": [
      "<class 'pandas.core.frame.DataFrame'>\n",
      "RangeIndex: 2542 entries, 0 to 2541\n",
      "Data columns (total 24 columns):\n",
      " #   Column                   Non-Null Count  Dtype  \n",
      "---  ------                   --------------  -----  \n",
      " 0   Geographic Area_x        2224 non-null   object \n",
      " 1   Median Income            2224 non-null   object \n",
      " 2   City_State               2542 non-null   object \n",
      " 3   poverty_rate             2224 non-null   float64\n",
      " 4   percent_completed_hs     2224 non-null   float64\n",
      " 5   share_white              2224 non-null   float64\n",
      " 6   share_black              2224 non-null   float64\n",
      " 7   share_native_american    2224 non-null   float64\n",
      " 8   share_asian              2224 non-null   float64\n",
      " 9   share_hispanic           2224 non-null   float64\n",
      " 10  id                       2542 non-null   int64  \n",
      " 11  name                     2542 non-null   object \n",
      " 12  date                     2542 non-null   object \n",
      " 13  manner_of_death          2542 non-null   object \n",
      " 14  armed                    2533 non-null   object \n",
      " 15  age                      2464 non-null   float64\n",
      " 16  gender                   2542 non-null   object \n",
      " 17  race                     2346 non-null   object \n",
      " 18  city                     2542 non-null   object \n",
      " 19  state                    2542 non-null   object \n",
      " 20  signs_of_mental_illness  2542 non-null   bool   \n",
      " 21  threat_level             2542 non-null   object \n",
      " 22  flee                     2477 non-null   object \n",
      " 23  body_camera              2542 non-null   bool   \n",
      "dtypes: bool(2), float64(8), int64(1), object(13)\n",
      "memory usage: 442.0+ KB\n"
     ]
    }
   ],
   "source": [
    "df.info()"
   ]
  },
  {
   "cell_type": "markdown",
   "metadata": {},
   "source": [
    "## Example: QSVM\n",
    "https://qiskit.org/documentation/tutorials/machine_learning/01_qsvm_classification.html"
   ]
  },
  {
   "cell_type": "code",
   "execution_count": 8,
   "metadata": {},
   "outputs": [],
   "source": [
    "import numpy as np\n",
    "\n",
    "from qiskit import BasicAer\n",
    "from qiskit.circuit.library import ZZFeatureMap\n",
    "from qiskit.aqua import QuantumInstance, aqua_globals\n",
    "from qiskit.aqua.algorithms import QSVM\n",
    "from qiskit.aqua.utils import split_dataset_to_data_and_labels, map_label_to_class_name\n",
    "\n",
    "seed = 10599\n",
    "aqua_globals.random_seed = seed"
   ]
  },
  {
   "cell_type": "code",
   "execution_count": 9,
   "metadata": {},
   "outputs": [
    {
     "data": {
      "image/png": "[encoded data removed]",
      "text/plain": [
       "<Figure size 432x288 with 1 Axes>"
      ]
     },
     "metadata": {
      "needs_background": "light"
     },
     "output_type": "display_data"
    },
    {
     "name": "stdout",
     "output_type": "stream",
     "text": [
      "{'A': 0, 'B': 1}\n"
     ]
    }
   ],
   "source": [
    "from qiskit.ml.datasets import ad_hoc_data, sample_ad_hoc_data\n",
    "\n",
    "feature_dim = 2\n",
    "sample_total, training_input, test_input, class_labels = ad_hoc_data(\n",
    "    training_size=20,\n",
    "    test_size=10,\n",
    "    n=feature_dim,\n",
    "    gap=0.3,\n",
    "    plot_data=True\n",
    ")\n",
    "extra_test_data = sample_ad_hoc_data(sample_total, 10, n=feature_dim)\n",
    "datapoints, class_to_label = split_dataset_to_data_and_labels(extra_test_data)\n",
    "print(class_to_label)"
   ]
  },
  {
   "cell_type": "code",
   "execution_count": 10,
   "metadata": {},
   "outputs": [
    {
     "name": "stdout",
     "output_type": "stream",
     "text": [
      "Testing success ratio: 1.0\n",
      "\n",
      "Prediction from datapoints set:\n",
      "  ground truth: ['A', 'A', 'A', 'A', 'A', 'A', 'A', 'A', 'A', 'A', 'B', 'B', 'B', 'B', 'B', 'B', 'B', 'B', 'B', 'B']\n",
      "  prediction:   ['A', 'A', 'A', 'A', 'A', 'A', 'A', 'A', 'A', 'A', 'B', 'B', 'B', 'B', 'B', 'B', 'B', 'B', 'B', 'B']\n",
      "  success rate: 100.0%\n"
     ]
    }
   ],
   "source": [
    "feature_map = ZZFeatureMap(feature_dimension=feature_dim, reps=2, entanglement='linear')\n",
    "qsvm = QSVM(feature_map, training_input, test_input, datapoints[0])\n",
    "\n",
    "backend = BasicAer.get_backend('qasm_simulator')\n",
    "quantum_instance = QuantumInstance(backend, shots=1024, seed_simulator=seed, seed_transpiler=seed)\n",
    "\n",
    "result = qsvm.run(quantum_instance)\n",
    "\n",
    "print(f'Testing success ratio: {result[\"testing_accuracy\"]}')\n",
    "print()\n",
    "print('Prediction from datapoints set:')\n",
    "print(f'  ground truth: {map_label_to_class_name(datapoints[1], qsvm.label_to_class)}')\n",
    "print(f'  prediction:   {result[\"predicted_classes\"]}')\n",
    "predicted_labels = result[\"predicted_labels\"]\n",
    "print(f'  success rate: {100*np.count_nonzero(predicted_labels == datapoints[1])/len(predicted_labels)}%')"
   ]
  },
  {
   "cell_type": "markdown",
   "metadata": {},
   "source": [
    "## Example: QSVM multiple classes\n",
    "https://qiskit.org/documentation/tutorials/machine_learning/02_qsvm_multiclass.html"
   ]
  },
  {
   "cell_type": "code",
   "execution_count": 11,
   "metadata": {},
   "outputs": [],
   "source": [
    "import numpy as np\n",
    "\n",
    "from qiskit import BasicAer\n",
    "from qiskit.circuit.library import ZZFeatureMap\n",
    "from qiskit.aqua import QuantumInstance, aqua_globals\n",
    "from qiskit.aqua.algorithms import QSVM\n",
    "from qiskit.aqua.components.multiclass_extensions import AllPairs\n",
    "from qiskit.aqua.utils.dataset_helper import get_feature_dimension"
   ]
  },
  {
   "cell_type": "code",
   "execution_count": 24,
   "metadata": {},
   "outputs": [],
   "source": [
    "def police(location, file, class_labels,training_size, test_size, n=2, PLOT_DATA=True):\n",
    "\n",
    "\n",
    "    data, target, target_names = load_data(location, file)\n",
    "    # sample_train is of the same form as data\n",
    "    sample_train, sample_test, label_train, label_test = train_test_split(\n",
    "        data, target,test_size=0.25, train_size=0.75 ,random_state=22)\n",
    "\n",
    "\n",
    "    # Now we standarize for gaussian around 0 with unit variance\n",
    "    std_scale = StandardScaler().fit(sample_train)\n",
    "    sample_train = std_scale.transform(sample_train)\n",
    "    sample_test = std_scale.transform(sample_test)\n",
    "\n",
    "\n",
    "    # Now reduce number of features to number of qubits\n",
    "    pca = PCA(n_components=n).fit(sample_train)\n",
    "    sample_train = pca.transform(sample_train)\n",
    "    sample_test = pca.transform(sample_test)\n",
    "\n",
    "\n",
    "    # Samples are pairs of points\n",
    "    samples = np.append(sample_train, sample_test, axis=0)\n",
    "    minmax_scale = MinMaxScaler((-1, 1)).fit(samples)\n",
    "    sample_train = minmax_scale.transform(sample_train)\n",
    "    sample_test = minmax_scale.transform(sample_test)\n",
    "\n",
    "\n",
    "    # If class labels are numeric\n",
    "    if class_labels[0].isdigit():\n",
    "        # Pick training size number of samples from each distro\n",
    "        training_input = {key: (sample_train[label_train == int(key), :])[:training_size] for k, key in enumerate(class_labels)}\n",
    "        test_input = {key: (sample_test[label_test == int(key), :])[: test_size] for k, key in enumerate(class_labels)}\n",
    "\n",
    "    else:\n",
    "        # if they aren't\n",
    "        training_input = {key: (sample_train[label_train == k, :])[:training_size] for k, key in\n",
    "                         enumerate(class_labels)}\n",
    "        test_input = {key: (sample_train[label_train == k, :])[training_size:(\n",
    "                training_size + test_size)] for k, key in enumerate(class_labels)}\n",
    "\n",
    "\n",
    "\n",
    "    if PLOT_DATA:\n",
    "        for k in range(0, 9):\n",
    "            plt.scatter(sample_train[label_train == k, 0][:training_size],\n",
    "                        sample_train[label_train == k, 1][:training_size])\n",
    "\n",
    "        plt.title(\"PCA dim. reduced user dataset\")\n",
    "        plt.show()\n",
    "\n",
    "    return sample_train, training_input, test_input, class_labels"
   ]
  },
  {
   "cell_type": "code",
   "execution_count": null,
   "metadata": {},
   "outputs": [],
   "source": [
    "n = 2\n",
    "sample_Total, training_input, test_input, class_labels = wine(training_size=24,\n",
    "                                                              test_size=6, n=n, plot_data=True)\n"
   ]
  },
  {
   "cell_type": "code",
   "execution_count": 12,
   "metadata": {},
   "outputs": [
    {
     "data": {
      "image/png": "[encoded data removed]",
      "text/plain": [
       "<Figure size 432x288 with 1 Axes>"
      ]
     },
     "metadata": {
      "needs_background": "light"
     },
     "output_type": "display_data"
    }
   ],
   "source": [
    "from qiskit.ml.datasets import wine\n",
    "\n",
    "n = 2  # dimension of each data point\n",
    "sample_Total, training_input, test_input, class_labels = wine(training_size=24,\n",
    "                                                              test_size=6, n=n, plot_data=True)\n",
    "temp = [test_input[k] for k in test_input]\n",
    "total_array = np.concatenate(temp)"
   ]
  },
  {
   "cell_type": "code",
   "execution_count": 23,
   "metadata": {
    "collapsed": true
   },
   "outputs": [
    {
     "data": {
      "text/plain": [
       "{'A': array([[-0.36427445, -0.03398871, -0.11167034, -0.37058717],\n",
       "        [-0.57554087,  0.01068342, -0.13490026, -0.16293913],\n",
       "        [-0.65451349, -0.21402681, -0.0702214 , -0.22309725],\n",
       "        [-0.25588589, -0.49875968, -0.07660565,  0.0641771 ],\n",
       "        [-0.79816844, -0.31021957, -0.31150808, -0.11137848],\n",
       "        [-0.39378628,  0.06358971,  0.1057448 , -0.18823123],\n",
       "        [-0.39757643, -0.17714646, -0.31624169, -0.41881159],\n",
       "        [-0.27544177,  0.00675905, -0.35556592, -0.29226366],\n",
       "        [-0.24739318, -0.05297698, -0.08609811, -0.43131199],\n",
       "        [-0.4942634 , -0.2049597 ,  0.20358416, -0.38989875],\n",
       "        [-0.70347938, -0.58197407, -0.20354483, -0.30385919],\n",
       "        [-0.43258439, -0.46207973,  0.07910591, -0.47500635]]),\n",
       " 'B': array([[ 0.00166608,  0.29723301,  0.06711487,  0.24239895],\n",
       "        [ 0.0538664 ,  0.27364838,  0.12488708,  0.0659451 ],\n",
       "        [-0.15715061,  0.3381723 ,  0.15492316,  0.22919005],\n",
       "        [-0.08914496,  1.        ,  0.20123894, -0.42584502],\n",
       "        [ 0.14578662,  0.55916599, -0.14718395,  0.27979833],\n",
       "        [-0.16328678,  0.51559131, -0.12606847, -0.37646371],\n",
       "        [ 0.08145586,  0.48155048, -0.05883488,  0.14431217],\n",
       "        [-0.34847863,  0.35656145,  0.28832103,  0.04721438],\n",
       "        [-0.40827098,  0.31611834,  0.02036526, -0.08413992],\n",
       "        [-0.51606564,  0.48112026, -0.46908637,  0.27411255],\n",
       "        [ 0.29291326,  0.12965952,  0.52165612,  0.21066557],\n",
       "        [ 0.15262274,  0.05654292,  0.17020955, -0.47730701]]),\n",
       " 'C': array([[ 0.51082315, -0.14365567, -0.18224426, -0.09835825],\n",
       "        [ 0.56126147, -0.16925449, -0.13964203,  0.06251819],\n",
       "        [ 0.53050986, -0.35497588, -0.11424183, -0.48284444],\n",
       "        [ 0.36736866, -0.70246947,  0.02871043,  0.0773518 ],\n",
       "        [ 0.683878  , -0.4671894 , -0.28625293, -0.13394287],\n",
       "        [ 0.55681773, -0.66818231, -0.20650736, -0.32156033],\n",
       "        [ 0.54490403, -0.68663171, -0.00865615, -0.12396669],\n",
       "        [ 0.55835887,  0.07902903, -0.30554747, -0.38937976],\n",
       "        [ 0.67296683, -0.19854643,  0.06863089, -0.40102857],\n",
       "        [ 0.61345609, -0.23097534, -0.27084013, -0.19583907],\n",
       "        [ 0.78337659, -0.64337832, -0.16253571,  0.18180797],\n",
       "        [ 0.51130904, -0.60798546,  0.06176403, -0.25185715]])}"
      ]
     },
     "execution_count": 23,
     "metadata": {},
     "output_type": "execute_result"
    }
   ],
   "source": [
    "training_input"
   ]
  },
  {
   "cell_type": "code",
   "execution_count": 13,
   "metadata": {},
   "outputs": [
    {
     "name": "stdout",
     "output_type": "stream",
     "text": [
      "testing_accuracy : 1.0\n",
      "test_success_ratio : 1.0\n",
      "predicted_labels : [0 1 2 2 2 2]\n",
      "predicted_classes : ['A', 'B', 'C', 'C', 'C', 'C']\n"
     ]
    }
   ],
   "source": [
    "aqua_globals.random_seed = 10598\n",
    "\n",
    "backend = BasicAer.get_backend('qasm_simulator')\n",
    "feature_map = ZZFeatureMap(feature_dimension=get_feature_dimension(training_input),\n",
    "                           reps=2, entanglement='linear')\n",
    "svm = QSVM(feature_map, training_input, test_input, total_array,\n",
    "           multiclass_extension=AllPairs())\n",
    "quantum_instance = QuantumInstance(backend, shots=1024,\n",
    "                                   seed_simulator=aqua_globals.random_seed,\n",
    "                                   seed_transpiler=aqua_globals.random_seed)\n",
    "\n",
    "result = svm.run(quantum_instance)\n",
    "for k,v in result.items():\n",
    "    print(f'{k} : {v}')"
   ]
  },
  {
   "cell_type": "code",
   "execution_count": 14,
   "metadata": {},
   "outputs": [
    {
     "data": {
      "text/plain": [
       "{'A': array([[-0.30877501, -0.19296975]]),\n",
       " 'B': array([[0.00172978, 0.29184209]]),\n",
       " 'C': array([[ 0.83361436, -0.3936271 ],\n",
       "        [ 0.67724803, -0.3892359 ],\n",
       "        [ 0.85338148, -0.28071525],\n",
       "        [ 0.5064    , -0.13846685]])}"
      ]
     },
     "execution_count": 14,
     "metadata": {},
     "output_type": "execute_result"
    }
   ],
   "source": [
    "test_input"
   ]
  },
  {
   "cell_type": "markdown",
   "metadata": {},
   "source": [
    "#### Test QSVM with shooting data"
   ]
  },
  {
   "cell_type": "code",
   "execution_count": null,
   "metadata": {},
   "outputs": [],
   "source": [
    "def userDefinedData(location, file, class_labels,training_size, test_size, n=2, PLOT_DATA=True):\n",
    "\n",
    "\n",
    "    data, target, target_names = load_data(location, file)\n",
    "    # sample_train is of the same form as data\n",
    "    sample_train, sample_test, label_train, label_test = train_test_split(\n",
    "        data, target,test_size=0.25, train_size=0.75 ,random_state=22)\n",
    "\n",
    "\n",
    "    # Now we standarize for gaussian around 0 with unit variance\n",
    "    std_scale = StandardScaler().fit(sample_train)\n",
    "    sample_train = std_scale.transform(sample_train)\n",
    "    sample_test = std_scale.transform(sample_test)\n",
    "\n",
    "\n",
    "    # Now reduce number of features to number of qubits\n",
    "    pca = PCA(n_components=n).fit(sample_train)\n",
    "    sample_train = pca.transform(sample_train)\n",
    "    sample_test = pca.transform(sample_test)\n",
    "\n",
    "\n",
    "    # Samples are pairs of points\n",
    "    samples = np.append(sample_train, sample_test, axis=0)\n",
    "    minmax_scale = MinMaxScaler((-1, 1)).fit(samples)\n",
    "    sample_train = minmax_scale.transform(sample_train)\n",
    "    sample_test = minmax_scale.transform(sample_test)\n",
    "\n",
    "\n",
    "    # If class labels are numeric\n",
    "    if class_labels[0].isdigit():\n",
    "        # Pick training size number of samples from each distro\n",
    "        training_input = {key: (sample_train[label_train == int(key), :])[:training_size] for k, key in enumerate(class_labels)}\n",
    "        test_input = {key: (sample_test[label_test == int(key), :])[: test_size] for k, key in enumerate(class_labels)}\n",
    "\n",
    "    else:\n",
    "        # if they aren't\n",
    "        training_input = {key: (sample_train[label_train == k, :])[:training_size] for k, key in\n",
    "                         enumerate(class_labels)}\n",
    "        test_input = {key: (sample_train[label_train == k, :])[training_size:(\n",
    "                training_size + test_size)] for k, key in enumerate(class_labels)}\n",
    "\n",
    "\n",
    "\n",
    "    if PLOT_DATA:\n",
    "        for k in range(0, 9):\n",
    "            plt.scatter(sample_train[label_train == k, 0][:training_size],\n",
    "                        sample_train[label_train == k, 1][:training_size])\n",
    "\n",
    "        plt.title(\"PCA dim. reduced user dataset\")\n",
    "        plt.show()\n",
    "\n",
    "    return sample_train, training_input, test_input, class_labels\n"
   ]
  },
  {
   "cell_type": "code",
   "execution_count": 15,
   "metadata": {},
   "outputs": [],
   "source": [
    "feature_dim = np.shape(X)[1]\n",
    "\n",
    "# Train test split\n",
    "X_train, X_test, y_train, y_test = train_test_split(X, y, test_size=0.2, random_state=1)\n",
    "\n",
    "training_input = X_train.copy()\n",
    "test_input = X_test.copy()"
   ]
  },
  {
   "cell_type": "code",
   "execution_count": null,
   "metadata": {},
   "outputs": [],
   "source": []
  },
  {
   "cell_type": "markdown",
   "metadata": {},
   "source": [
    "## Example: VQC (Variational Quantum Classified) algorithm \n",
    "https://github.com/Qiskit/qiskit-aqua#machine-learning"
   ]
  },
  {
   "cell_type": "code",
   "execution_count": 16,
   "metadata": {},
   "outputs": [
    {
     "name": "stdout",
     "output_type": "stream",
     "text": [
      "Testing accuracy: 1.00\n"
     ]
    }
   ],
   "source": [
    "from qiskit import BasicAer\n",
    "from qiskit.aqua import QuantumInstance, aqua_globals\n",
    "from qiskit.aqua.algorithms import VQC\n",
    "from qiskit.aqua.components.optimizers import COBYLA\n",
    "from qiskit.aqua.components.feature_maps import RawFeatureVector\n",
    "from qiskit.ml.datasets import wine\n",
    "from qiskit.circuit.library import TwoLocal\n",
    "\n",
    "seed = 1376\n",
    "aqua_globals.random_seed = seed\n",
    "\n",
    "# Use Wine data set for training and test data\n",
    "feature_dim = 4  # dimension of each data point\n",
    "_, training_input, test_input, _ = wine(training_size=12,\n",
    "                                        test_size=4,\n",
    "                                        n=feature_dim)\n",
    "\n",
    "feature_map = RawFeatureVector(feature_dimension=feature_dim)\n",
    "vqc = VQC(COBYLA(maxiter=100),\n",
    "          feature_map,\n",
    "          TwoLocal(feature_map.num_qubits, ['ry', 'rz'], 'cz', reps=3),\n",
    "          training_input,\n",
    "          test_input)\n",
    "result = vqc.run(QuantumInstance(BasicAer.get_backend('statevector_simulator'),\n",
    "                                 shots=1024, seed_simulator=seed, seed_transpiler=seed))\n",
    "\n",
    "print('Testing accuracy: {:0.2f}'.format(result['testing_accuracy']))"
   ]
  },
  {
   "cell_type": "code",
   "execution_count": null,
   "metadata": {},
   "outputs": [],
   "source": []
  }
 ],
 "metadata": {
  "kernelspec": {
   "display_name": "Python 3",
   "language": "python",
   "name": "python3"
  },
  "language_info": {
   "codemirror_mode": {
    "name": "ipython",
    "version": 3
   },
   "file_extension": ".py",
   "mimetype": "text/x-python",
   "name": "python",
   "nbconvert_exporter": "python",
   "pygments_lexer": "ipython3",
   "version": "3.7.9"
  }
 },
 "nbformat": 4,
 "nbformat_minor": 5
}
